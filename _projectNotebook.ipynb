{
 "cells": [
  {
   "cell_type": "markdown",
   "id": "77499b3e-195e-45e0-b13e-3fac742cc045",
   "metadata": {},
   "source": [
    "# Json import to openSearch"
   ]
  },
  {
   "cell_type": "code",
   "execution_count": null,
   "id": "f81c3ba6-5e0b-4158-af9a-f005c05c8b36",
   "metadata": {},
   "outputs": [],
   "source": [
    "import createRecipesMap as crm\n",
    "\n",
    "crm.CreateRecipesMap(\"../jsonData/recipe_queries_results.json\", '../jsonData/recipesMap.json').createMap()"
   ]
  },
  {
   "cell_type": "markdown",
   "id": "1161acd6-e0c8-4d54-9b82-3816aba95707",
   "metadata": {},
   "source": [
    "# Login to openSearch"
   ]
  },
  {
   "cell_type": "code",
   "execution_count": null,
   "id": "11e0c895",
   "metadata": {},
   "outputs": [],
   "source": [
    "import loginOpenSearch as lop\n",
    "\n",
    "login = lop.LoginOpenSearch(\"../jsonData/openSearchConfig.json\").login()\n",
    "    \n",
    "client = login[0]\n",
    "index_name = login[1]"
   ]
  },
  {
   "cell_type": "markdown",
   "id": "95847a2a-0256-406f-a2f2-ddd97bb3c664",
   "metadata": {},
   "source": [
    "# Create index structure"
   ]
  },
  {
   "cell_type": "code",
   "execution_count": null,
   "id": "a1e6b04d",
   "metadata": {
    "tags": []
   },
   "outputs": [],
   "source": [
    "import createIndexes as ci\n",
    "\n",
    "ci.CreateIndexes(client, index_name).createIndexStructure()"
   ]
  },
  {
   "cell_type": "markdown",
   "id": "2e6abb6c-d050-476b-a517-f0062433f2e6",
   "metadata": {},
   "source": [
    "# Choose the tokenizer and model that will be used in the embeddings"
   ]
  },
  {
   "cell_type": "code",
   "execution_count": null,
   "id": "ea6acad3-7c01-4bf1-8540-9f2d71c40e98",
   "metadata": {},
   "outputs": [],
   "source": [
    "from transformers import AutoTokenizer, AutoModel\n",
    "\n",
    "tokenizer = AutoTokenizer.from_pretrained(\"sentence-transformers/msmarco-distilbert-base-v2\")\n",
    "model = AutoModel.from_pretrained(\"sentence-transformers/msmarco-distilbert-base-v2\")"
   ]
  },
  {
   "cell_type": "code",
   "execution_count": null,
   "id": "90996957",
   "metadata": {},
   "outputs": [],
   "source": [
    "import computeEmbeddings as ce\n",
    "\n",
    "ce.ComputeEmbeddings(\"../jsonData/recipesMap.json\",\"../jsonData/recipesEmbeddingsMap.json\", tokenizer, model).createMap()"
   ]
  },
  {
   "cell_type": "code",
   "execution_count": null,
   "id": "e7060fe8",
   "metadata": {
    "tags": []
   },
   "outputs": [],
   "source": [
    "import indexRecipes as ir\n",
    "\n",
    "ir.IndexRecipes(\"../jsonData/recipesMap.json\", \"../jsonData/recipesEmbeddingsMap.json\", client, index_name).indexRecipes()\n"
   ]
  },
  {
   "cell_type": "code",
   "execution_count": null,
   "id": "810b7b24",
   "metadata": {
    "tags": []
   },
   "outputs": [],
   "source": [
    "import search as s\n",
    "\n",
    "s.Search(client, index_name, tokenizer, model).queryOpenSearch('Holiday Salad', 5,None, None, [\"salads\"], [\"lupine\"], None)"
   ]
  },
  {
   "cell_type": "code",
   "execution_count": null,
   "id": "92e6517c",
   "metadata": {
    "tags": []
   },
   "outputs": [],
   "source": [
    "adfasdfdafdsafd\n",
    "if client.indices.exists(index=index_name):\n",
    "    # Delete the index.\n",
    "    response = client.indices.delete(\n",
    "        index = index_name,\n",
    "        timeout = \"600s\"\n",
    "    )\n",
    "    print('\\nDeleting index:')\n",
    "    print(response)"
   ]
  }
 ],
 "metadata": {
  "interpreter": {
   "hash": "0b01e16f685b97ac6c048476024a823da546713321bc2babde743de74f38aea3"
  },
  "kernelspec": {
   "display_name": "NLP & IR",
   "language": "python",
   "name": "python3"
  },
  "language_info": {
   "codemirror_mode": {
    "name": "ipython",
    "version": 3
   },
   "file_extension": ".py",
   "mimetype": "text/x-python",
   "name": "python",
   "nbconvert_exporter": "python",
   "pygments_lexer": "ipython3",
   "version": "3.8.12"
  }
 },
 "nbformat": 4,
 "nbformat_minor": 5
}
