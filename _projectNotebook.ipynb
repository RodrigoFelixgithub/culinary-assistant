{
 "cells": [
  {
   "cell_type": "markdown",
   "id": "42a600a9",
   "metadata": {},
   "source": [
    "# PART1"
   ]
  },
  {
   "cell_type": "markdown",
   "id": "77499b3e-195e-45e0-b13e-3fac742cc045",
   "metadata": {},
   "source": [
    "## Json import to openSearch"
   ]
  },
  {
   "cell_type": "code",
   "execution_count": null,
   "id": "f81c3ba6-5e0b-4158-af9a-f005c05c8b36",
   "metadata": {},
   "outputs": [],
   "source": [
    "import createRecipesMap as crm\n",
    "\n",
    "crm.CreateRecipesMap(\"../jsonData/recipe_queries_results.json\", '../jsonData/recipesMap.json').createMap()"
   ]
  },
  {
   "cell_type": "markdown",
   "id": "1161acd6-e0c8-4d54-9b82-3816aba95707",
   "metadata": {},
   "source": [
    "## Login to openSearch"
   ]
  },
  {
   "cell_type": "code",
   "execution_count": null,
   "id": "11e0c895",
   "metadata": {},
   "outputs": [],
   "source": [
    "import loginOpenSearch as lop\n",
    "\n",
    "login = lop.LoginOpenSearch(\"../jsonData/openSearchConfig.json\").login()\n",
    "    \n",
    "client = login[0]\n",
    "index_name = login[1]"
   ]
  },
  {
   "cell_type": "markdown",
   "id": "95847a2a-0256-406f-a2f2-ddd97bb3c664",
   "metadata": {},
   "source": [
    "## Create index structure"
   ]
  },
  {
   "cell_type": "code",
   "execution_count": null,
   "id": "a1e6b04d",
   "metadata": {
    "tags": []
   },
   "outputs": [],
   "source": [
    "import createIndexes as ci\n",
    "\n",
    "ci.CreateIndexes(client, index_name).createIndexStructure()"
   ]
  },
  {
   "cell_type": "markdown",
   "id": "2e6abb6c-d050-476b-a517-f0062433f2e6",
   "metadata": {},
   "source": [
    "## Choose the tokenizer and model that will be used in the embeddings"
   ]
  },
  {
   "cell_type": "code",
   "execution_count": null,
   "id": "ea6acad3-7c01-4bf1-8540-9f2d71c40e98",
   "metadata": {},
   "outputs": [],
   "source": [
    "from transformers import AutoTokenizer, AutoModel\n",
    "\n",
    "tokenizer = AutoTokenizer.from_pretrained(\"sentence-transformers/msmarco-distilbert-base-v2\")\n",
    "model = AutoModel.from_pretrained(\"sentence-transformers/msmarco-distilbert-base-v2\")"
   ]
  },
  {
   "cell_type": "code",
   "execution_count": null,
   "id": "90996957",
   "metadata": {},
   "outputs": [],
   "source": [
    "import computeEmbeddings as ce\n",
    "\n",
    "ce.ComputeEmbeddings(\"../jsonData/recipesMap.json\",\"../jsonData/recipesEmbeddingsMap.json\", tokenizer, model).createMap()"
   ]
  },
  {
   "cell_type": "code",
   "execution_count": null,
   "id": "e7060fe8",
   "metadata": {
    "tags": []
   },
   "outputs": [],
   "source": [
    "import indexRecipes as ir\n",
    "\n",
    "ir.IndexRecipes(\"../jsonData/recipesMap.json\", \"../jsonData/recipesEmbeddingsMap.json\", client, index_name).indexRecipes()\n"
   ]
  },
  {
   "cell_type": "code",
   "execution_count": null,
   "id": "810b7b24",
   "metadata": {
    "tags": []
   },
   "outputs": [],
   "source": [
    "import search as s\n",
    "\n",
    "s.Search(client, index_name, tokenizer, model).queryOpenSearch('Holiday Salad', 5,None, None, [\"salads\"], [\"lupine\"], None)"
   ]
  },
  {
   "cell_type": "markdown",
   "id": "e1fb377f-fce9-4b0e-9ed3-4f84415614d5",
   "metadata": {},
   "source": [
    "## Testing"
   ]
  },
  {
   "cell_type": "code",
   "execution_count": null,
   "id": "6f46b0ad-3964-4e87-bb3f-d3c1c6eae494",
   "metadata": {},
   "outputs": [],
   "source": [
    "import searchJson as sj\n",
    "metrics = sj.SearchJson(client, index_name, tokenizer, model)\n",
    "metrics.searchJson(\"../jsonData/cleanAnnotations.json\")"
   ]
  },
  {
   "cell_type": "code",
   "execution_count": null,
   "id": "92e6517c",
   "metadata": {
    "tags": []
   },
   "outputs": [],
   "source": [
    "delete this sentence to run\n",
    "if client.indices.exists(index=index_name):\n",
    "    # Delete the index.\n",
    "    response = client.indices.delete(\n",
    "        index = index_name,\n",
    "        timeout = \"600s\"\n",
    "    )\n",
    "    print('\\nDeleting index:')\n",
    "    print(response)"
   ]
  },
  {
   "cell_type": "markdown",
   "id": "c93a256a",
   "metadata": {},
   "source": [
    "# PART2"
   ]
  },
  {
   "cell_type": "markdown",
   "id": "01766b41",
   "metadata": {},
   "source": [
    "## Compute the step similarity matrix"
   ]
  },
  {
   "cell_type": "markdown",
   "id": "ac0173ab",
   "metadata": {},
   "source": [
    "### Compute the steps json files"
   ]
  },
  {
   "cell_type": "code",
   "execution_count": null,
   "id": "736ee30e",
   "metadata": {},
   "outputs": [],
   "source": [
    "import stepsCalculator as sc\n",
    "\n",
    "sc.CreateStepsMaps(\"../jsonData/recipesMap.json\", '../jsonData/stepsImage.json', '../jsonData/stepsNoImage.json').createMaps()\n"
   ]
  },
  {
   "cell_type": "markdown",
   "id": "b360a3f8",
   "metadata": {},
   "source": [
    "### Compute the embeddings"
   ]
  },
  {
   "cell_type": "code",
   "execution_count": null,
   "id": "16b22384",
   "metadata": {},
   "outputs": [],
   "source": [
    "import torch\n",
    "device = \"cuda:0\" if torch.cuda.is_available() else \"cpu\"\n",
    "\n",
    "device"
   ]
  },
  {
   "cell_type": "code",
   "execution_count": null,
   "id": "9186215c",
   "metadata": {},
   "outputs": [],
   "source": [
    "import computeImagesEmbeddings as cie\n",
    "\n",
    "cie.ComputeImagesEmbeddings(\"../jsonData/stepsImage.json\",\"../jsonData/stepsNoImage.json\",\"../jsonData/stepsImageEmbeddingsMap.json\",\"../jsonData/stepsNoImageEmbeddingsMap.json\",\"images/\").createMap()"
   ]
  },
  {
   "cell_type": "markdown",
   "id": "e8f39201",
   "metadata": {},
   "source": [
    "### Compute the similarity matrix"
   ]
  },
  {
   "cell_type": "code",
   "execution_count": null,
   "id": "380ed141",
   "metadata": {},
   "outputs": [],
   "source": [
    "import computeMatrix as cm\n",
    "\n",
    "imageSimilarityMatrix = cm.ComputeMatrix(\"../jsonData/stepsImageEmbeddingsMap.json\", \"../jsonData/stepsNoImageEmbeddingsMap.json\").createMatrix()\n",
    "print(imageSimilarityMatrix)\n",
    "print(len(imageSimilarityMatrix[0]))"
   ]
  },
  {
   "cell_type": "code",
   "execution_count": null,
   "id": "0e73ddb1",
   "metadata": {},
   "outputs": [],
   "source": [
    "import getImage as gi\n",
    "\n",
    "gi.GetImage(imageSimilarityMatrix, \"../jsonData/stepsImage.json\", \"../jsonData/stepsNoImage.json\", \"images/\",\"../jsonData/recipesMap.json\").getImageFunc()"
   ]
  },
  {
   "cell_type": "code",
   "execution_count": null,
   "id": "15542b81-6240-495b-8627-8c2082397b09",
   "metadata": {},
   "outputs": [],
   "source": [
    "#import computeClipOutput as cco\n",
    "\n",
    "#image = cco.ComputeClipOutput(imageSimilarityMatrix, \"../jsonData/stepsImage.json\", \"../jsonData/stepsNoImage.json\", \"images/\",\"../jsonData/recipesMap.json\").getImage()"
   ]
  },
  {
   "cell_type": "markdown",
   "id": "9940ebd0",
   "metadata": {},
   "source": [
    "# PART3\n"
   ]
  },
  {
   "cell_type": "code",
   "execution_count": 1,
   "id": "cce0b034",
   "metadata": {},
   "outputs": [
    {
     "name": "stdout",
     "output_type": "stream",
     "text": [
      "\n",
      "----------------------------------------------------------------------------------- INDEX SETTINGS\n",
      "{'user209': {'settings': {'index': {'creation_date': '1649609449190',\n",
      "                                    'knn': 'true',\n",
      "                                    'number_of_replicas': '0',\n",
      "                                    'number_of_shards': '4',\n",
      "                                    'provided_name': 'user209',\n",
      "                                    'refresh_interval': '1s',\n",
      "                                    'uuid': 'zYvHS7n3SS6ejuPIp7Ikhw',\n",
      "                                    'version': {'created': '135238227'}}}}}\n",
      "\n",
      "----------------------------------------------------------------------------------- INDEX MAPPINGS\n",
      "{'user209': {'mappings': {'properties': {'description': {'similarity': 'BM25',\n",
      "                                                         'type': 'text'},\n",
      "                                         'ingredients': {'type': 'keyword'},\n",
      "                                         'negative_Keywords': {'type': 'keyword'},\n",
      "                                         'positive_Keywords': {'type': 'keyword'},\n",
      "                                         'recipeId': {'type': 'keyword'},\n",
      "                                         'sentence_embedding_description': {'dimension': 768,\n",
      "                                                                            'method': {'engine': 'faiss',\n",
      "                                                                                       'name': 'hnsw',\n",
      "                                                                                       'parameters': {'ef_construction': 384,\n",
      "                                                                                                      'm': 48},\n",
      "                                                                                       'space_type': 'innerproduct'},\n",
      "                                                                            'type': 'knn_vector'},\n",
      "                                         'sentence_embedding_title': {'dimension': 768,\n",
      "                                                                      'method': {'engine': 'faiss',\n",
      "                                                                                 'name': 'hnsw',\n",
      "                                                                                 'parameters': {'ef_construction': 384,\n",
      "                                                                                                'm': 48},\n",
      "                                                                                 'space_type': 'innerproduct'},\n",
      "                                                                      'type': 'knn_vector'},\n",
      "                                         'time': {'type': 'integer'},\n",
      "                                         'title': {'similarity': 'BM25',\n",
      "                                                   'type': 'text'}}}}}\n",
      "\n",
      "----------------------------------------------------------------------------------- INDEX #DOCs\n",
      "{'count': 994, '_shards': {'total': 4, 'successful': 4, 'skipped': 0, 'failed': 0}}\n"
     ]
    }
   ],
   "source": [
    "import os\n",
    "import numpy as np\n",
    "import transformers\n",
    "import json\n",
    "import loginOpenSearch as lop\n",
    "import search as s\n",
    "import extractiveQA as eq\n",
    "\n",
    "import random\n",
    "\n",
    "from transformers import (\n",
    "    AutoModelForSequenceClassification,\n",
    "    AutoTokenizer,\n",
    "    AutoModel,\n",
    "    Trainer,\n",
    "    TrainingArguments,\n",
    "    DataCollatorWithPadding\n",
    ")\n",
    "\n",
    "model_finetuned = '/user/data/public/twiz-intent-model'\n",
    "with open(os.path.join(model_finetuned + '/all_intents.json'), 'r') as all_intents_json:\n",
    "    all_intents = json.load(all_intents_json) # contains the written out names of intents. also implicitly\n",
    "\n",
    "tokenizer_name = 'roberta-base' # try 'bert-base-uncased', 'bert-base-cased', 'bert-large-uncased'\n",
    "tokenizer = AutoTokenizer.from_pretrained(tokenizer_name) # loads a tokenizer\n",
    "\n",
    "model = AutoModelForSequenceClassification.from_pretrained(model_finetuned, num_labels=len(all_intents)) # Loads the BERT model weights\n",
    "\n",
    "login = lop.LoginOpenSearch(\"../jsonData/openSearchConfig.json\").login()\n",
    "openSearchTokenizer = AutoTokenizer.from_pretrained(\"sentence-transformers/msmarco-distilbert-base-v2\")\n",
    "openSearchModel = AutoModel.from_pretrained(\"sentence-transformers/msmarco-distilbert-base-v2\")\n",
    "\n",
    "searchEngine = s.Search(login[0], login[1], openSearchTokenizer, openSearchModel)\n",
    "qaExtractor = eq.ExtractiveQA()\n"
   ]
  },
  {
   "cell_type": "code",
   "execution_count": 2,
   "id": "2146dfab",
   "metadata": {},
   "outputs": [
    {
     "name": "stdout",
     "output_type": "stream",
     "text": [
      "Hello! I'm a cooking assistant and I'm here to help you cook anything you want. What would you like to prepare today?\n",
      "IdentifyProcessIntent\n",
      "Ok! I'll now ask you some questions to find the pizza recipe you're looking for!\n",
      "Are there any desired ingredients you'd like the recipe to have? If so, could you enumerate them?\n",
      "IdentifyProcessIntent\n",
      "Ok, I'll take cheese in consideration.\n",
      "Are there any ingredients you really don't want in the recipe? If so, could you also enumerate them?\n",
      "QuestionIntent\n",
      "Got it, I'll find recipes which don't contain any bananas and olives.\n",
      "Should the recipe follow any dietary requirements?\n",
      "For example, does it need to be vegan or gluten-free?\n",
      "QuestionIntent\n",
      "Ok, I'll prioritize recipes that have vegan requirements.\n",
      "Last question! Are there any time restrictions for the food preparation? If so, how many minutes would you like it to take?\n",
      "AMAZON.YesIntent\n",
      "Noted, I'll try to look for recipes that take less then 30 minutes.\n",
      "Done! I have found some recipes that fit your description.\n"
     ]
    },
    {
     "data": {
      "text/html": [
       "\n",
       "        <div style=\"display: flex; align-items: center; border-style: double;\">\n",
       "            <div>\n",
       "                <img src=https://m.media-amazon.com/images/S/alexa-kitchen-msa-na-prod/recipes/kitchenstories/557d7d7e7315c15bebcbdf4e4b9e563f71d0930231b767d89533ca5e50570bcb.jpg style=\"width:200px; margin-right:20px\"/>\n",
       "            </div>\n",
       "            <div>\n",
       "                <div><b>Home-Made Pizza</b> </div>\n",
       "                <div>Preparation time: 27 minutes</div>\n",
       "                <div>Rating: -</div>\n",
       "            </div>\n",
       "        </div>\n",
       "    "
      ],
      "text/plain": [
       "<IPython.core.display.HTML object>"
      ]
     },
     "metadata": {},
     "output_type": "display_data"
    },
    {
     "data": {
      "text/html": [
       "\n",
       "        <div style=\"display: flex; align-items: center; border-style: double;\">\n",
       "            <div>\n",
       "                <img src=https://m.media-amazon.com/images/S/alexa-kitchen-msa-na-prod/recipes/allrecipes/ab1e4d5be53a3010f5f4bccad793daaed92c0dd52846ae50a4c6c339c28bea81.jpg style=\"width:200px; margin-right:20px\"/>\n",
       "            </div>\n",
       "            <div>\n",
       "                <div><b>Pizza Dough I</b> </div>\n",
       "                <div>Preparation time: 35 minutes</div>\n",
       "                <div>Rating: 4.44/5</div>\n",
       "            </div>\n",
       "        </div>\n",
       "    "
      ],
      "text/plain": [
       "<IPython.core.display.HTML object>"
      ]
     },
     "metadata": {},
     "output_type": "display_data"
    },
    {
     "data": {
      "text/html": [
       "\n",
       "        <div style=\"display: flex; align-items: center; border-style: double;\">\n",
       "            <div>\n",
       "                <img src=https://m.media-amazon.com/images/S/alexa-kitchen-msa-na-prod/recipes/foodnetwork/5ae360211cfabfa354068a57abca5ba5d610476395060f81d6241dae375007a3.jpg style=\"width:200px; margin-right:20px\"/>\n",
       "            </div>\n",
       "            <div>\n",
       "                <div><b>Dessert Pizza</b> </div>\n",
       "                <div>Preparation time: 27 minutes</div>\n",
       "                <div>Rating: -</div>\n",
       "            </div>\n",
       "        </div>\n",
       "    "
      ],
      "text/plain": [
       "<IPython.core.display.HTML object>"
      ]
     },
     "metadata": {},
     "output_type": "display_data"
    },
    {
     "data": {
      "text/html": [
       "\n",
       "        <div style=\"display: flex; align-items: center; border-style: double;\">\n",
       "            <div>\n",
       "                <img src=https://m.media-amazon.com/images/S/alexa-kitchen-msa-na-prod/recipes/thekitchn/5f06d5b32542aed67b1fea154c0c4369c8166c15767b9315c64d61add4d274ec.jpg style=\"width:200px; margin-right:20px\"/>\n",
       "            </div>\n",
       "            <div>\n",
       "                <div><b>How To Make Homemade Pizza Sauce</b> </div>\n",
       "                <div>Preparation time: -</div>\n",
       "                <div>Rating: 3.2/5</div>\n",
       "            </div>\n",
       "        </div>\n",
       "    "
      ],
      "text/plain": [
       "<IPython.core.display.HTML object>"
      ]
     },
     "metadata": {},
     "output_type": "display_data"
    },
    {
     "data": {
      "text/html": [
       "\n",
       "        <div style=\"display: flex; align-items: center; border-style: double;\">\n",
       "            <div>\n",
       "                <img src=https://m.media-amazon.com/images/S/alexa-kitchen-msa-na-prod/recipes/foodnetwork/7a25d9852d0693f49287555db820dec8af6ffdfb9ae78a87dbe3306304d008b5.jpg style=\"width:200px; margin-right:20px\"/>\n",
       "            </div>\n",
       "            <div>\n",
       "                <div><b>Dessert Pizza</b> </div>\n",
       "                <div>Preparation time: 27 minutes</div>\n",
       "                <div>Rating: 4/5</div>\n",
       "            </div>\n",
       "        </div>\n",
       "    "
      ],
      "text/plain": [
       "<IPython.core.display.HTML object>"
      ]
     },
     "metadata": {},
     "output_type": "display_data"
    },
    {
     "name": "stdout",
     "output_type": "stream",
     "text": [
      "Which one would you like to see?\n",
      "AMAZON.SelectIntent\n",
      "You picked Home-Made Pizza. Great choice!\n",
      "Would you like to know the needed ingredients?\n",
      "AMAZON.YesIntent\n",
      "For this recipe you'll need the following ingredients:\n"
     ]
    },
    {
     "data": {
      "text/html": [
       "\n",
       "        <div style=\"align-items: center;border-style: double;\">\n",
       "            <h2 style=\"text-align:center;\">Ingredient List</h3>\n",
       "            <ul style=\"font-size: 17px;\"><li style=\"padding-bottom:3px;\"> 180 g flour<li style=\"padding-bottom:3px;\"> 1 tsp baking powder<li style=\"padding-bottom:3px;\"> ¼ tsp salt<li style=\"padding-bottom:3px;\"> 120 g water<li style=\"padding-bottom:3px;\"> 22½ g olive oil<li style=\"padding-bottom:3px;\"> Pizza sauce<li style=\"padding-bottom:3px;\"> Cheese<li style=\"padding-bottom:3px;\"> Red onion<li style=\"padding-bottom:3px;\"> Ham</ul>\n",
       "        </div>\n",
       "    "
      ],
      "text/plain": [
       "<IPython.core.display.HTML object>"
      ]
     },
     "metadata": {},
     "output_type": "display_data"
    },
    {
     "name": "stdout",
     "output_type": "stream",
     "text": [
      "Are you ready to start cooking?\n",
      "AMAZON.YesIntent\n",
      "Ok! Let's begin!\n",
      "\n"
     ]
    },
    {
     "data": {
      "text/html": [
       "\n",
       "        <div style=\"text-align:center; align-items: center; border-style: double;\">\n",
       "            <div><b>Step 1: </b> </div>\n",
       "            <div>Put the oven on 250°C</div>\n",
       "            <div style=\"height:10px;\"></div>\n",
       "            <img src=https://m.media-amazon.com/images/S/alexa-kitchen-msa-na-prod/recipes/kitchenstories/0c199eff05d5849d8379fb8a539f259ce8d0ab4cfe323f80ceedfbd8b19fb3cb.jpg style=\"width:200px; margin-right:20px; border-style: solid; border-radius: 20px; border-width: 1px;\"/>\n",
       "            <div style=\"height:10px;\"></div>\n",
       "        </div>\n",
       "    "
      ],
      "text/plain": [
       "<IPython.core.display.HTML object>"
      ]
     },
     "metadata": {},
     "output_type": "display_data"
    },
    {
     "name": "stdout",
     "output_type": "stream",
     "text": [
      "Would you like to proceed to the next step?\n",
      "AMAZON.YesIntent\n"
     ]
    },
    {
     "data": {
      "text/html": [
       "\n",
       "        <div style=\"text-align:center; align-items: center; border-style: double;\">\n",
       "            <div><b>Step 2: </b> </div>\n",
       "            <div>Mix all the dry ingredients together</div>\n",
       "            <div style=\"height:10px;\"></div>\n",
       "            <img src=https://m.media-amazon.com/images/S/alexa-kitchen-msa-na-prod/recipes/sidechef/359db53a7386bfcce7dda4296ee735845915c803a9b50ff78b6614160d614913.jpg style=\"width:200px; margin-right:20px; border-style: solid; border-radius: 20px; border-width: 1px;\"/>\n",
       "            <div style=\"height:10px;\"></div>\n",
       "        </div>\n",
       "    "
      ],
      "text/plain": [
       "<IPython.core.display.HTML object>"
      ]
     },
     "metadata": {},
     "output_type": "display_data"
    },
    {
     "name": "stdout",
     "output_type": "stream",
     "text": [
      "Would you like to proceed to the next step?\n",
      "AMAZON.YesIntent\n"
     ]
    },
    {
     "data": {
      "text/html": [
       "\n",
       "        <div style=\"text-align:center; align-items: center; border-style: double;\">\n",
       "            <div><b>Step 3: </b> </div>\n",
       "            <div>Add water and oil and work everything together to a smooth dough</div>\n",
       "            <div style=\"height:10px;\"></div>\n",
       "            <img src=https://m.media-amazon.com/images/S/alexa-kitchen-msa-na-prod/recipes/sidechef/4d94ebf7383505654d3e279a6a2c5784c733a83fea2e2745e950aa6935af8a24.jpeg style=\"width:200px; margin-right:20px; border-style: solid; border-radius: 20px; border-width: 1px;\"/>\n",
       "            <div style=\"height:10px;\"></div>\n",
       "        </div>\n",
       "    "
      ],
      "text/plain": [
       "<IPython.core.display.HTML object>"
      ]
     },
     "metadata": {},
     "output_type": "display_data"
    },
    {
     "name": "stdout",
     "output_type": "stream",
     "text": [
      "Would you like to proceed to the next step?\n",
      "AMAZON.YesIntent\n"
     ]
    },
    {
     "data": {
      "text/html": [
       "\n",
       "        <div style=\"text-align:center; align-items: center; border-style: double;\">\n",
       "            <div><b>Step 4: </b> </div>\n",
       "            <div>Roll out the dough on a plate, thick or thin. REMEMBER! The thicker the dough you have, add about two minutes to the cooking-time</div>\n",
       "            <div style=\"height:10px;\"></div>\n",
       "            <img src=https://m.media-amazon.com/images/S/alexa-kitchen-msa-na-prod/recipes/kitchenstories/625808575d7dc3682f9ceb983f1a839ae2b04082e7646e13fb50b628803d5f93.jpg style=\"width:200px; margin-right:20px; border-style: solid; border-radius: 20px; border-width: 1px;\"/>\n",
       "            <div style=\"height:10px;\"></div>\n",
       "        </div>\n",
       "    "
      ],
      "text/plain": [
       "<IPython.core.display.HTML object>"
      ]
     },
     "metadata": {},
     "output_type": "display_data"
    },
    {
     "name": "stdout",
     "output_type": "stream",
     "text": [
      "Would you like to proceed to the next step?\n",
      "AMAZON.YesIntent\n"
     ]
    },
    {
     "data": {
      "text/html": [
       "\n",
       "        <div style=\"text-align:center; align-items: center; border-style: double;\">\n",
       "            <div><b>Step 5: </b> </div>\n",
       "            <div>Put the pizza in the oven for 5-6 minutes</div>\n",
       "            <div style=\"height:10px;\"></div>\n",
       "            <img src=https://m.media-amazon.com/images/S/alexa-kitchen-msa-na-prod/recipes/kitchenstories/0c199eff05d5849d8379fb8a539f259ce8d0ab4cfe323f80ceedfbd8b19fb3cb.jpg style=\"width:200px; margin-right:20px; border-style: solid; border-radius: 20px; border-width: 1px;\"/>\n",
       "            <div style=\"height:10px;\"></div>\n",
       "        </div>\n",
       "    "
      ],
      "text/plain": [
       "<IPython.core.display.HTML object>"
      ]
     },
     "metadata": {},
     "output_type": "display_data"
    },
    {
     "name": "stdout",
     "output_type": "stream",
     "text": [
      "Would you like to proceed to the next step?\n",
      "AMAZON.YesIntent\n"
     ]
    },
    {
     "data": {
      "text/html": [
       "\n",
       "        <div style=\"text-align:center; align-items: center; border-style: double;\">\n",
       "            <div><b>Step 6: </b> </div>\n",
       "            <div>Take out the pizza and add the pizza-sauce, cheese, and your topping (on the pictures I used ham and red onion)</div>\n",
       "            <div style=\"height:10px;\"></div>\n",
       "            <img src=https://m.media-amazon.com/images/S/alexa-kitchen-msa-na-prod/recipes/kitchenstories/aaa2691a51749840153ce0e8c87f96a84e73ebbabf3bae1ef7706d6ab27045cb.jpg style=\"width:200px; margin-right:20px; border-style: solid; border-radius: 20px; border-width: 1px;\"/>\n",
       "            <div style=\"height:10px;\"></div>\n",
       "        </div>\n",
       "    "
      ],
      "text/plain": [
       "<IPython.core.display.HTML object>"
      ]
     },
     "metadata": {},
     "output_type": "display_data"
    },
    {
     "name": "stdout",
     "output_type": "stream",
     "text": [
      "Would you like to proceed to the next step?\n",
      "AMAZON.YesIntent\n"
     ]
    },
    {
     "data": {
      "text/html": [
       "\n",
       "        <div style=\"text-align:center; align-items: center; border-style: double;\">\n",
       "            <div><b>Step 7: </b> </div>\n",
       "            <div>Put the pizza back in the oven and have it in the oven until the cheese has melt</div>\n",
       "            <div style=\"height:10px;\"></div>\n",
       "            <img src=https://m.media-amazon.com/images/S/alexa-kitchen-msa-na-prod/recipes/sidechef/58e140ac641a235fca0257aadad5810592de50635ba7c99e30b9b2950234eeab.jpg style=\"width:200px; margin-right:20px; border-style: solid; border-radius: 20px; border-width: 1px;\"/>\n",
       "            <div style=\"height:10px;\"></div>\n",
       "        </div>\n",
       "    "
      ],
      "text/plain": [
       "<IPython.core.display.HTML object>"
      ]
     },
     "metadata": {},
     "output_type": "display_data"
    },
    {
     "name": "stdout",
     "output_type": "stream",
     "text": [
      "Would you like to proceed to the next step?\n",
      "AMAZON.YesIntent\n"
     ]
    },
    {
     "data": {
      "text/html": [
       "\n",
       "        <div style=\"text-align:center; align-items: center; border-style: double;\">\n",
       "            <div><b>Step 8: </b> </div>\n",
       "            <div>Take it out and ENJOY!</div>\n",
       "            <div style=\"height:10px;\"></div>\n",
       "            <img src=https://m.media-amazon.com/images/S/alexa-kitchen-msa-na-prod/recipes/kitchenstories/aaa2691a51749840153ce0e8c87f96a84e73ebbabf3bae1ef7706d6ab27045cb.jpg style=\"width:200px; margin-right:20px; border-style: solid; border-radius: 20px; border-width: 1px;\"/>\n",
       "            <div style=\"height:10px;\"></div>\n",
       "        </div>\n",
       "    "
      ],
      "text/plain": [
       "<IPython.core.display.HTML object>"
      ]
     },
     "metadata": {},
     "output_type": "display_data"
    },
    {
     "name": "stdout",
     "output_type": "stream",
     "text": [
      "This was the last step, would you like to proceed?\n",
      "AMAZON.YesIntent\n",
      "Now that you've finished cooking you can finally enjoy your meal! Bon appétit!\n"
     ]
    }
   ],
   "source": [
    "import stateMachine\n",
    "turing = stateMachine.StateMachine(tokenizer,model, all_intents,searchEngine, qaExtractor)\n",
    "       \n",
    "        #greeting\n",
    "response = 'hello, today i would like to cook pizza.'\n",
    "intent = turing.getIntent(response)\n",
    "print(intent)\n",
    "turing.setUserResponse(response)\n",
    "getattr(turing, intent)()\n",
    "\n",
    "        #ask_for_desired_ingredients\n",
    "response = 'i would like cheese please'\n",
    "intent = turing.getIntent(response)\n",
    "print(intent)\n",
    "turing.setUserResponse(response)\n",
    "getattr(turing, intent)()\n",
    "\n",
    "        #ask_for_unwanted_ingredients\n",
    "response = 'i really dont want bananas or olives'\n",
    "intent = turing.getIntent(response)\n",
    "print(intent)\n",
    "turing.setUserResponse(response)\n",
    "getattr(turing, intent)()\n",
    "\n",
    "        #ask_for_keywords\n",
    "response = 'yes, i would like it to be vegan please' \n",
    "print(intent)\n",
    "intent = turing.getIntent(response)\n",
    "turing.setUserResponse(response)\n",
    "getattr(turing, intent)()\n",
    "\n",
    "        #ask_for_time_restrictions\n",
    "response = 'im in a hurry so thirty minutes in the maximum please' \n",
    "#response = 'yes i would like the recipe to be under sixty minutes' \n",
    "intent = turing.getIntent(response)\n",
    "print(intent)\n",
    "turing.setUserResponse(response)\n",
    "getattr(turing, intent)()\n",
    "\n",
    "        #show_top_recipes\n",
    "response = 'i want to see the first recipe thank you' \n",
    "intent = turing.getIntent(response)\n",
    "print(intent)\n",
    "turing.setUserResponse(response)\n",
    "getattr(turing, intent)()\n",
    "\n",
    "        #show_ingredients / skip ings\n",
    "response = 'yes' \n",
    "intent = turing.getIntent(response)\n",
    "print(intent)\n",
    "turing.setUserResponse(response)\n",
    "getattr(turing, intent)()\n",
    "\n",
    "        #show_steps\n",
    "while turing.state != 'end' :\n",
    "    #response = input(\"USER:\")\n",
    "    response = 'yes' \n",
    "    intent = turing.getIntent(response)\n",
    "    print(intent)\n",
    "    turing.setUserResponse(response)\n",
    "    getattr(turing, intent)()\n",
    "#steps\n",
    "\n"
   ]
  },
  {
   "cell_type": "code",
   "execution_count": null,
   "id": "eda87214",
   "metadata": {},
   "outputs": [],
   "source": [
    "import stateMachine\n",
    "turing = stateMachine.StateMachine(tokenizer,model, all_intents, searchEngine, qaExtractor)\n",
    "while(turing.state != 'end'):\n",
    "\n",
    "    response = input(\"USER:\")\n",
    "    intent = turing.getIntent(response)\n",
    "    print(intent)\n",
    "    turing.setUserResponse(response)\n",
    "    try: \n",
    "        getattr(turing, intent)() \n",
    "    except Exception as e:\n",
    "        print ('I\\'m sorry, I couldn\\'t quite understand you! Could you please rephrase your answer?')\n",
    "        continue\n",
    "\n",
    "        "
   ]
  }
 ],
 "metadata": {
  "interpreter": {
   "hash": "7e30e07544ccebc78dacd6421da111f7ec20c267e40e3fb45cd6c16b14155975"
  },
  "kernelspec": {
   "display_name": "Python 3.9.12 ('felixines')",
   "language": "python",
   "name": "python3"
  },
  "language_info": {
   "codemirror_mode": {
    "name": "ipython",
    "version": 3
   },
   "file_extension": ".py",
   "mimetype": "text/x-python",
   "name": "python",
   "nbconvert_exporter": "python",
   "pygments_lexer": "ipython3",
   "version": "3.9.12"
  }
 },
 "nbformat": 4,
 "nbformat_minor": 5
}
